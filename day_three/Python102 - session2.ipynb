{
 "cells": [
  {
   "cell_type": "code",
   "execution_count": null,
   "metadata": {
    "collapsed": true
   },
   "outputs": [],
   "source": [
    "#  Python 103 begins this Thursday 7/20 at 5:30pm\n",
    "#  Use discount code MARS for 15% off\n",
    "'''\n",
    "Python 103\n",
    "What this course is about:\n",
    "This class builds on our complete beginners classes Python 101/102. \n",
    "Python was designed with object-oriented programming in mind. \n",
    "We will dive into what object-oriented programming means and how to \n",
    "apply the paradigms of classes and objects within the context of the \n",
    "Python language.\n",
    "\n",
    "–\n",
    "You will learn:\n",
    "Refresher on Functions in Python\n",
    "Classes in Python\n",
    "Self and __init__\n",
    "Class Attributes and Class Methods\n",
    "Instance Attributes and Instance Methods\n",
    "Inheritance in Python\n",
    "Practical Exercises: Create Your Own Classes\n",
    "\n",
    "'''\n"
   ]
  },
  {
   "cell_type": "code",
   "execution_count": 1,
   "metadata": {
    "collapsed": false
   },
   "outputs": [
    {
     "data": {
      "text/plain": [
       "'\\nfor future reference. Python By Immersion : https://www.youtube.com/watch?v=9k5687mmnoc\\n'"
      ]
     },
     "execution_count": 1,
     "metadata": {},
     "output_type": "execute_result"
    }
   ],
   "source": [
    "'''\n",
    "Python 102 You will learn:\n",
    "Review of Lists, Tuples, Dicts, and Sets\n",
    "List Comprehensions\n",
    "Iterating over Lists and other “Container\" types\n",
    "\n",
    "Types of Errors in Python\n",
    "Handling and Raising Exceptions : try and except\n",
    "Let’s Debug Someone Else’s Code\n",
    "Importing Modules from Python Libraries\n",
    "'''\n",
    "'''\n",
    "Note: I love this video! It is a great intro/review for beginner Python. \n",
    "Python By Immersion : https://www.youtube.com/watch?v=9k5687mmnoc\n",
    "'''"
   ]
  },
  {
   "cell_type": "code",
   "execution_count": 1,
   "metadata": {
    "collapsed": false
   },
   "outputs": [
    {
     "name": "stdout",
     "output_type": "stream",
     "text": [
      "The value of x before running is 6\n",
      "The value of variable while the program is running is 106\n",
      "The value of x after running is 6\n"
     ]
    }
   ],
   "source": [
    "x = 6\n",
    "\n",
    "def modify(my_var):\n",
    "    my_var += 100\n",
    "    print(\"The value of variable while the program is running is:\", my_var)\n",
    "    return my_var\n",
    "\n",
    "\n",
    "print(\"The value of x before running is:\", x)\n",
    "modify(x)\n",
    "print(\"The value of x after running is:\", x)\n"
   ]
  },
  {
   "cell_type": "code",
   "execution_count": 2,
   "metadata": {
    "collapsed": false
   },
   "outputs": [
    {
     "name": "stdout",
     "output_type": "stream",
     "text": [
      "The value of x before running is 6\n",
      "The value of variable while the program is running is 106\n",
      "The value of x after running is 106\n"
     ]
    }
   ],
   "source": [
    "x = 6\n",
    "\n",
    "def modify(my_var):\n",
    "    my_var += 100\n",
    "    print(\"The value of variable while the program is running is:\", my_var)\n",
    "    return my_var\n",
    "\n",
    "\n",
    "print(\"The value of x before running is:\", x)\n",
    "x = modify(x)\n",
    "print(\"The value of x after running is:\", x)\n"
   ]
  },
  {
   "cell_type": "code",
   "execution_count": 8,
   "metadata": {
    "collapsed": false
   },
   "outputs": [
    {
     "name": "stdout",
     "output_type": "stream",
     "text": [
      "[4, 8, 12, 16, 20, 24, 28, 32, 36, 40, 44, 48, 52, 56, 60, 64, 68, 72, 76, 80, 84, 88, 92, 96, 100, 104, 108, 112, 116, 120, 124, 128, 132, 136, 140, 144, 148, 152, 156, 160, 164, 168, 172, 176, 180, 184, 188, 192, 196, 200, 204, 208, 212, 216, 220, 224, 228, 232, 236, 240, 244, 248, 252, 256, 260, 264, 268, 272, 276, 280, 284, 288, 292, 296, 300, 304, 308, 312, 316, 320, 324, 328, 332, 336, 340, 344, 348, 352, 356, 360, 364, 368, 372, 376, 380, 384, 388, 392, 396, 400, 404, 408, 412, 416]\n"
     ]
    }
   ],
   "source": [
    "#review of exercises from session #1\n",
    "\n",
    "#using list comprehension, \n",
    "#generate a list of multiples of 4 that are greater than 0 \n",
    "#and less than 420\n",
    "\n",
    "my_list = [x for x in range(1,420) if x%4 == 0]\n",
    "\n",
    "print(my_list)\n",
    "\n",
    "\n",
    "\n"
   ]
  },
  {
   "cell_type": "code",
   "execution_count": 9,
   "metadata": {
    "collapsed": false
   },
   "outputs": [
    {
     "name": "stdout",
     "output_type": "stream",
     "text": [
      "[1, 2, 3, 4, 5, 6, 7, 8, 9, 11, 12, 13, 14, 15, 16, 17, 18, 19, 21, 22, 23, 24, 25, 26, 27, 28, 29, 31, 32, 33, 34, 35, 36, 37, 38, 39, 41, 42, 43, 44, 45, 46, 47, 48, 49, 51, 52, 53, 54, 55, 56, 57, 58, 59, 61, 62, 63, 64, 65, 66, 67, 68, 69, 71, 72, 73, 74, 75, 76, 77, 78, 79, 81, 82, 83, 84, 85, 86, 87, 88, 89, 91, 92, 93, 94, 95, 96, 97, 98, 99, 101, 102, 103, 104, 105, 106, 107, 108, 109, 111, 112, 113, 114, 115, 116, 117, 118, 119, 121, 122, 123, 124, 125, 126, 127, 128, 129, 131, 132, 133, 134, 135, 136, 137, 138, 139, 141, 142, 143, 144, 145, 146, 147, 148, 149, 151, 152, 153, 154, 155, 156, 157, 158, 159, 161, 162, 163, 164, 165, 166, 167, 168, 169, 171, 172, 173, 174, 175, 176, 177, 178, 179, 181, 182, 183, 184, 185, 186, 187, 188, 189, 191, 192, 193, 194, 195, 196, 197, 198, 199, 201, 202, 203, 204, 205, 206, 207, 208, 209, 211, 212, 213, 214, 215, 216, 217, 218, 219, 221, 222, 223, 224, 225, 226, 227, 228, 229, 231, 232, 233, 234, 235, 236, 237, 238, 239, 241, 242, 243, 244, 245, 246, 247, 248, 249, 251, 252, 253, 254, 255, 256, 257, 258, 259, 261, 262, 263, 264, 265, 266, 267, 268, 269, 271, 272, 273, 274, 275, 276, 277, 278, 279, 281, 282, 283, 284, 285, 286, 287, 288, 289, 291, 292, 293, 294, 295, 296, 297, 298, 299, 301, 302, 303, 304, 305, 306, 307, 308, 309]\n"
     ]
    }
   ],
   "source": [
    "#using list comprehension, \n",
    "#generate a list of multiples of 5 \n",
    "#that are greater than 0 and less than 310 \n",
    "#that are *not* multiples of 10\n",
    "\n",
    "my_list = [x for x in range(1,310) if x%10 != 0]\n",
    "print(my_list)"
   ]
  },
  {
   "cell_type": "code",
   "execution_count": 13,
   "metadata": {
    "collapsed": false
   },
   "outputs": [
    {
     "name": "stdout",
     "output_type": "stream",
     "text": [
      "1000\n",
      "[1981, 1983, 1985, 1987, 1989, 1991, 1993, 1995, 1997, 1999]\n"
     ]
    }
   ],
   "source": [
    "#Build a list called odd_list of the first 1000 positive odd numbers \n",
    "#print the last 10 elements of this list\n",
    "odd_list = [x for x in range(0,2000) if x%2 != 0]\n",
    "print(len(odd_list))\n",
    "print(odd_list[-10:])"
   ]
  },
  {
   "cell_type": "code",
   "execution_count": 14,
   "metadata": {
    "collapsed": false
   },
   "outputs": [
    {
     "name": "stdout",
     "output_type": "stream",
     "text": [
      "1000\n",
      "[1, 3, 5, 7, 9, 11, 13, 15, 17, 19]\n"
     ]
    }
   ],
   "source": [
    "#Build a list called even_list of the first 1000 positive even numbers\n",
    "#print the first 10 elements of this list\n",
    "even_list = [x for x in range(0,2000) if x%2 != 0]\n",
    "print(len(even_list))\n",
    "print(even_list[:10])"
   ]
  },
  {
   "cell_type": "code",
   "execution_count": 1,
   "metadata": {
    "collapsed": false
   },
   "outputs": [
    {
     "name": "stdout",
     "output_type": "stream",
     "text": [
      "True\n",
      "True\n",
      "True\n",
      "True\n",
      "False\n"
     ]
    }
   ],
   "source": [
    "# what does prime mean? Divisible by 1 and itself. \n",
    "#1 is defined as not prime. 2 is defined as prime.\n",
    "# write it as a function!!\n",
    "\n",
    "def is_prime(number):\n",
    "    assert type(number) == int\n",
    "    assert number > 0\n",
    "    \n",
    "    if number == 1: return False\n",
    "    if number == 2: return True\n",
    "    \n",
    "    for i in range(2,number):\n",
    "        if number%i == 0: return False\n",
    "    return True\n",
    "\n",
    "\n",
    "#test your function!\n",
    "print(is_prime(2))\n",
    "print(is_prime(3))\n",
    "print(is_prime(5))\n",
    "print(is_prime(7))\n",
    "print(is_prime(9))"
   ]
  },
  {
   "cell_type": "code",
   "execution_count": 2,
   "metadata": {
    "collapsed": false
   },
   "outputs": [
    {
     "ename": "AssertionError",
     "evalue": "",
     "output_type": "error",
     "traceback": [
      "\u001b[0;31m---------------------------------------------------------------------------\u001b[0m",
      "\u001b[0;31mAssertionError\u001b[0m                            Traceback (most recent call last)",
      "\u001b[0;32m<ipython-input-2-62f5f814f816>\u001b[0m in \u001b[0;36m<module>\u001b[0;34m()\u001b[0m\n\u001b[0;32m----> 1\u001b[0;31m \u001b[0mis_prime\u001b[0m\u001b[0;34m(\u001b[0m\u001b[0;34m-\u001b[0m\u001b[0;36m4\u001b[0m\u001b[0;34m)\u001b[0m\u001b[0;34m\u001b[0m\u001b[0m\n\u001b[0m",
      "\u001b[0;32m<ipython-input-1-8da02c599db2>\u001b[0m in \u001b[0;36mis_prime\u001b[0;34m(number)\u001b[0m\n\u001b[1;32m      5\u001b[0m \u001b[0;32mdef\u001b[0m \u001b[0mis_prime\u001b[0m\u001b[0;34m(\u001b[0m\u001b[0mnumber\u001b[0m\u001b[0;34m)\u001b[0m\u001b[0;34m:\u001b[0m\u001b[0;34m\u001b[0m\u001b[0m\n\u001b[1;32m      6\u001b[0m     \u001b[0;32massert\u001b[0m \u001b[0mtype\u001b[0m\u001b[0;34m(\u001b[0m\u001b[0mnumber\u001b[0m\u001b[0;34m)\u001b[0m \u001b[0;34m==\u001b[0m \u001b[0mint\u001b[0m\u001b[0;34m\u001b[0m\u001b[0m\n\u001b[0;32m----> 7\u001b[0;31m     \u001b[0;32massert\u001b[0m \u001b[0mnumber\u001b[0m \u001b[0;34m>\u001b[0m \u001b[0;36m0\u001b[0m\u001b[0;34m\u001b[0m\u001b[0m\n\u001b[0m\u001b[1;32m      8\u001b[0m \u001b[0;34m\u001b[0m\u001b[0m\n\u001b[1;32m      9\u001b[0m     \u001b[0;32mif\u001b[0m \u001b[0mnumber\u001b[0m \u001b[0;34m==\u001b[0m \u001b[0;36m1\u001b[0m\u001b[0;34m:\u001b[0m \u001b[0;32mreturn\u001b[0m \u001b[0;32mFalse\u001b[0m\u001b[0;34m\u001b[0m\u001b[0m\n",
      "\u001b[0;31mAssertionError\u001b[0m: "
     ]
    }
   ],
   "source": [
    "is_prime(-4)"
   ]
  },
  {
   "cell_type": "code",
   "execution_count": 55,
   "metadata": {
    "collapsed": false
   },
   "outputs": [
    {
     "name": "stdout",
     "output_type": "stream",
     "text": [
      "[2, 3, 5, 7, 11, 13, 17, 19, 23, 29, 31, 37, 41, 43, 47, 53, 59, 61, 67, 71, 73, 79, 83, 89, 97, 101, 103, 107, 109, 113, 127, 131, 137, 139, 149, 151, 157, 163, 167, 173, 179, 181, 191, 193, 197, 199, 211, 223, 227, 229, 233, 239, 241, 251, 257, 263, 269, 271, 277, 281, 283, 293, 307, 311, 313, 317, 331, 337, 347, 349, 353, 359, 367, 373, 379, 383, 389, 397, 401, 409, 419, 421, 431, 433, 439, 443, 449, 457, 461, 463, 467, 479, 487, 491, 499, 503, 509, 521, 523, 541]\n"
     ]
    }
   ],
   "source": [
    "# make a list of the first 100 prime numbers greater than zero\n",
    "#version 1\n",
    "\n",
    "stop = 545  # I did trial and error on variable 'stop' \n",
    "#until I found the correct number \n",
    "# i.e. if stop = 545 then len(primes) = 100\n",
    "\n",
    "#Once you know where to stop, now can do a list comprehension using your function is_prime()\n",
    "\n",
    "primes = [x for x in range(1,stop) if is_prime(x)]\n",
    "print(primes) "
   ]
  },
  {
   "cell_type": "code",
   "execution_count": 43,
   "metadata": {
    "collapsed": false
   },
   "outputs": [
    {
     "name": "stdout",
     "output_type": "stream",
     "text": [
      "[2, 3, 5, 7, 11, 13, 17, 19, 23, 29, 31, 37, 41, 43, 47, 53, 59, 61, 67, 71, 73, 79, 83, 89, 97, 101, 103, 107, 109, 113, 127, 131, 137, 139, 149, 151, 157, 163, 167, 173, 179, 181, 191, 193, 197, 199, 211, 223, 227, 229, 233, 239, 241, 251, 257, 263, 269, 271, 277, 281, 283, 293, 307, 311, 313, 317, 331, 337, 347, 349, 353, 359, 367, 373, 379, 383, 389, 397, 401, 409, 419, 421, 431, 433, 439, 443, 449, 457, 461, 463, 467, 479, 487, 491, 499, 503, 509, 521, 523, 541]\n"
     ]
    }
   ],
   "source": [
    "# make a list of the first 100 prime numbers greater than zero\n",
    "#version 2\n",
    "\n",
    "#this looks like a function, but it is actually a generator!!\n",
    "def number_generator():\n",
    "    start = 1\n",
    "    while True:\n",
    "        yield start\n",
    "        start += 1\n",
    "\n",
    "num_gen = number_generator()\n",
    "\n",
    "\n",
    "primes = []\n",
    "while len(primes) < 100:\n",
    "    number = next(num_gen)\n",
    "    if is_prime(number):\n",
    "        primes.append(number)\n",
    "\n",
    "print(primes)\n"
   ]
  },
  {
   "cell_type": "code",
   "execution_count": 62,
   "metadata": {
    "collapsed": false
   },
   "outputs": [],
   "source": [
    "#dealing with errors in Python\n",
    "# discussion: how many different types of errors have you encountered \n",
    "#so far?\n",
    "# NAME SOME OF THEM!"
   ]
  },
  {
   "cell_type": "code",
   "execution_count": 66,
   "metadata": {
    "collapsed": false
   },
   "outputs": [
    {
     "ename": "NameError",
     "evalue": "name 'prnit' is not defined",
     "output_type": "error",
     "traceback": [
      "\u001b[0;31m---------------------------------------------------------------------------\u001b[0m",
      "\u001b[0;31mNameError\u001b[0m                                 Traceback (most recent call last)",
      "\u001b[0;32m<ipython-input-66-66bc49d99817>\u001b[0m in \u001b[0;36m<module>\u001b[0;34m()\u001b[0m\n\u001b[1;32m      1\u001b[0m \u001b[0;31m#gives NameError\u001b[0m\u001b[0;34m\u001b[0m\u001b[0;34m\u001b[0m\u001b[0m\n\u001b[0;32m----> 2\u001b[0;31m \u001b[0mprnit\u001b[0m\u001b[0;34m(\u001b[0m\u001b[0;34m\"My String\"\u001b[0m\u001b[0;34m)\u001b[0m\u001b[0;34m\u001b[0m\u001b[0m\n\u001b[0m",
      "\u001b[0;31mNameError\u001b[0m: name 'prnit' is not defined"
     ]
    }
   ],
   "source": [
    "#gives NameError\n",
    "prnit(\"My String\")"
   ]
  },
  {
   "cell_type": "code",
   "execution_count": 67,
   "metadata": {
    "collapsed": false
   },
   "outputs": [
    {
     "ename": "SyntaxError",
     "evalue": "unexpected EOF while parsing (<ipython-input-67-0c4838fc7aa7>, line 1)",
     "output_type": "error",
     "traceback": [
      "\u001b[0;36m  File \u001b[0;32m\"<ipython-input-67-0c4838fc7aa7>\"\u001b[0;36m, line \u001b[0;32m1\u001b[0m\n\u001b[0;31m    print(\"My String\"\u001b[0m\n\u001b[0m                     ^\u001b[0m\n\u001b[0;31mSyntaxError\u001b[0m\u001b[0;31m:\u001b[0m unexpected EOF while parsing\n"
     ]
    }
   ],
   "source": [
    "# gives SyntaxError\n",
    "print(\"My String\""
   ]
  },
  {
   "cell_type": "code",
   "execution_count": 68,
   "metadata": {
    "collapsed": false
   },
   "outputs": [
    {
     "ename": "SyntaxError",
     "evalue": "invalid syntax (<ipython-input-68-299a06235fcc>, line 1)",
     "output_type": "error",
     "traceback": [
      "\u001b[0;36m  File \u001b[0;32m\"<ipython-input-68-299a06235fcc>\"\u001b[0;36m, line \u001b[0;32m1\u001b[0m\n\u001b[0;31m    print(My String)\u001b[0m\n\u001b[0m                  ^\u001b[0m\n\u001b[0;31mSyntaxError\u001b[0m\u001b[0;31m:\u001b[0m invalid syntax\n"
     ]
    }
   ],
   "source": [
    "#Gives SyntaxError\n",
    "print(My String)"
   ]
  },
  {
   "cell_type": "code",
   "execution_count": 57,
   "metadata": {
    "collapsed": false
   },
   "outputs": [
    {
     "ename": "ZeroDivisionError",
     "evalue": "division by zero",
     "output_type": "error",
     "traceback": [
      "\u001b[0;31m---------------------------------------------------------------------------\u001b[0m",
      "\u001b[0;31mZeroDivisionError\u001b[0m                         Traceback (most recent call last)",
      "\u001b[0;32m<ipython-input-57-c5f1f092ccbb>\u001b[0m in \u001b[0;36m<module>\u001b[0;34m()\u001b[0m\n\u001b[1;32m     15\u001b[0m '''\n\u001b[1;32m     16\u001b[0m \u001b[0;34m\u001b[0m\u001b[0m\n\u001b[0;32m---> 17\u001b[0;31m \u001b[0mdivide_by_zero\u001b[0m \u001b[0;34m=\u001b[0m \u001b[0;36m1\u001b[0m\u001b[0;34m/\u001b[0m\u001b[0;36m0\u001b[0m\u001b[0;34m\u001b[0m\u001b[0m\n\u001b[0m",
      "\u001b[0;31mZeroDivisionError\u001b[0m: division by zero"
     ]
    }
   ],
   "source": [
    "'''\n",
    "Python handles all errors with exceptions.\n",
    "\n",
    "An exception is a signal that an error or other unusual \n",
    "condition has occurred. \n",
    "There are a number of built-in exceptions, \n",
    "which indicate conditions like reading past the end of a file, \n",
    "or dividing by zero. \n",
    "You can also define your own exceptions.\n",
    "\n",
    "Exceptions may or may not cause your program to CRASH!\n",
    "\n",
    "'''\n",
    "\n",
    "# Gives a ZeroDivisionError\n",
    "divide_by_zero = 1/0"
   ]
  },
  {
   "cell_type": "code",
   "execution_count": 72,
   "metadata": {
    "collapsed": false
   },
   "outputs": [
    {
     "ename": "IndentationError",
     "evalue": "expected an indented block (<ipython-input-72-086572048b8a>, line 2)",
     "output_type": "error",
     "traceback": [
      "\u001b[0;36m  File \u001b[0;32m\"<ipython-input-72-086572048b8a>\"\u001b[0;36m, line \u001b[0;32m2\u001b[0m\n\u001b[0;31m    return 1\u001b[0m\n\u001b[0m         ^\u001b[0m\n\u001b[0;31mIndentationError\u001b[0m\u001b[0;31m:\u001b[0m expected an indented block\n"
     ]
    }
   ],
   "source": [
    "# gives an IndentationError\n",
    "\n",
    "def my_function():\n",
    "return 1"
   ]
  },
  {
   "cell_type": "code",
   "execution_count": 58,
   "metadata": {
    "collapsed": false
   },
   "outputs": [
    {
     "ename": "TypeError",
     "evalue": "must be str, not int",
     "output_type": "error",
     "traceback": [
      "\u001b[0;31m---------------------------------------------------------------------------\u001b[0m",
      "\u001b[0;31mTypeError\u001b[0m                                 Traceback (most recent call last)",
      "\u001b[0;32m<ipython-input-58-09af7b9e540d>\u001b[0m in \u001b[0;36m<module>\u001b[0;34m()\u001b[0m\n\u001b[1;32m      1\u001b[0m \u001b[0mmy_string\u001b[0m \u001b[0;34m=\u001b[0m \u001b[0;34m'x'\u001b[0m\u001b[0;34m\u001b[0m\u001b[0m\n\u001b[1;32m      2\u001b[0m \u001b[0mmy_int\u001b[0m \u001b[0;34m=\u001b[0m \u001b[0;36m1\u001b[0m\u001b[0;34m\u001b[0m\u001b[0m\n\u001b[0;32m----> 3\u001b[0;31m \u001b[0mmy_string\u001b[0m \u001b[0;34m+\u001b[0m \u001b[0mmy_int\u001b[0m\u001b[0;34m\u001b[0m\u001b[0m\n\u001b[0m",
      "\u001b[0;31mTypeError\u001b[0m: must be str, not int"
     ]
    }
   ],
   "source": [
    "my_string = 'x'\n",
    "my_int = 1\n",
    "\n",
    "# Gives TypeError + a helpful message\n",
    "my_string + my_int"
   ]
  },
  {
   "cell_type": "code",
   "execution_count": 61,
   "metadata": {
    "collapsed": false
   },
   "outputs": [
    {
     "ename": "NameError",
     "evalue": "name 'MYSTRING' is not defined",
     "output_type": "error",
     "traceback": [
      "\u001b[0;31m---------------------------------------------------------------------------\u001b[0m",
      "\u001b[0;31mNameError\u001b[0m                                 Traceback (most recent call last)",
      "\u001b[0;32m<ipython-input-61-8b1b4bd15672>\u001b[0m in \u001b[0;36m<module>\u001b[0;34m()\u001b[0m\n\u001b[1;32m      2\u001b[0m \u001b[0;34m\u001b[0m\u001b[0m\n\u001b[1;32m      3\u001b[0m \u001b[0;31m#Gives NameError + a helpful message\u001b[0m\u001b[0;34m\u001b[0m\u001b[0;34m\u001b[0m\u001b[0m\n\u001b[0;32m----> 4\u001b[0;31m \u001b[0mprint\u001b[0m\u001b[0;34m(\u001b[0m\u001b[0mMYSTRING\u001b[0m\u001b[0;34m)\u001b[0m\u001b[0;34m\u001b[0m\u001b[0m\n\u001b[0m",
      "\u001b[0;31mNameError\u001b[0m: name 'MYSTRING' is not defined"
     ]
    }
   ],
   "source": [
    "my_string = 'x'\n",
    "\n",
    "#Gives NameError + a helpful message\n",
    "print(MYSTRING)"
   ]
  },
  {
   "cell_type": "code",
   "execution_count": 70,
   "metadata": {
    "collapsed": false
   },
   "outputs": [
    {
     "ename": "IndexError",
     "evalue": "list index out of range",
     "output_type": "error",
     "traceback": [
      "\u001b[0;31m---------------------------------------------------------------------------\u001b[0m",
      "\u001b[0;31mIndexError\u001b[0m                                Traceback (most recent call last)",
      "\u001b[0;32m<ipython-input-70-0e9ee73743bc>\u001b[0m in \u001b[0;36m<module>\u001b[0;34m()\u001b[0m\n\u001b[1;32m      1\u001b[0m \u001b[0mmy_list\u001b[0m \u001b[0;34m=\u001b[0m \u001b[0;34m[\u001b[0m\u001b[0;36m1\u001b[0m\u001b[0;34m,\u001b[0m\u001b[0;36m2\u001b[0m\u001b[0;34m,\u001b[0m\u001b[0;36m3\u001b[0m\u001b[0;34m,\u001b[0m\u001b[0;36m4\u001b[0m\u001b[0;34m,\u001b[0m\u001b[0;36m5\u001b[0m\u001b[0;34m]\u001b[0m\u001b[0;34m\u001b[0m\u001b[0m\n\u001b[0;32m----> 2\u001b[0;31m \u001b[0mmy_list\u001b[0m\u001b[0;34m[\u001b[0m\u001b[0;36m7\u001b[0m\u001b[0;34m]\u001b[0m\u001b[0;34m\u001b[0m\u001b[0m\n\u001b[0m",
      "\u001b[0;31mIndexError\u001b[0m: list index out of range"
     ]
    }
   ],
   "source": [
    "my_list = [1,2,3,4,5]\n",
    "\n",
    "#Gives an IndexError\n",
    "my_list[7]"
   ]
  },
  {
   "cell_type": "code",
   "execution_count": 69,
   "metadata": {
    "collapsed": false
   },
   "outputs": [
    {
     "ename": "KeyError",
     "evalue": "'rubber'",
     "output_type": "error",
     "traceback": [
      "\u001b[0;31m---------------------------------------------------------------------------\u001b[0m",
      "\u001b[0;31mKeyError\u001b[0m                                  Traceback (most recent call last)",
      "\u001b[0;32m<ipython-input-69-bb1f1b3a0158>\u001b[0m in \u001b[0;36m<module>\u001b[0;34m()\u001b[0m\n\u001b[1;32m      1\u001b[0m \u001b[0mmy_dictionary\u001b[0m \u001b[0;34m=\u001b[0m \u001b[0;34m{\u001b[0m\u001b[0;34m'left'\u001b[0m\u001b[0;34m:\u001b[0m\u001b[0;34m'right'\u001b[0m\u001b[0;34m,\u001b[0m \u001b[0;34m'up'\u001b[0m\u001b[0;34m:\u001b[0m\u001b[0;34m'down'\u001b[0m\u001b[0;34m}\u001b[0m\u001b[0;34m\u001b[0m\u001b[0m\n\u001b[0;32m----> 2\u001b[0;31m \u001b[0mmy_dictionary\u001b[0m\u001b[0;34m[\u001b[0m\u001b[0;34m'rubber'\u001b[0m\u001b[0;34m]\u001b[0m\u001b[0;34m\u001b[0m\u001b[0m\n\u001b[0m",
      "\u001b[0;31mKeyError\u001b[0m: 'rubber'"
     ]
    }
   ],
   "source": [
    "my_dictionary = {'left':'right', 'up':'down'}\n",
    "\n",
    "# gives a KeyError\n",
    "my_dictionary['rubber']"
   ]
  },
  {
   "cell_type": "code",
   "execution_count": 64,
   "metadata": {
    "collapsed": false
   },
   "outputs": [
    {
     "ename": "FileNotFoundError",
     "evalue": "[Errno 2] No such file or directory: 'my_file.txt'",
     "output_type": "error",
     "traceback": [
      "\u001b[0;31m---------------------------------------------------------------------------\u001b[0m",
      "\u001b[0;31mFileNotFoundError\u001b[0m                         Traceback (most recent call last)",
      "\u001b[0;32m<ipython-input-64-62419d07a3b6>\u001b[0m in \u001b[0;36m<module>\u001b[0;34m()\u001b[0m\n\u001b[1;32m      1\u001b[0m \u001b[0;31m#gives FileNotFoundError\u001b[0m\u001b[0;34m\u001b[0m\u001b[0;34m\u001b[0m\u001b[0m\n\u001b[0;32m----> 2\u001b[0;31m \u001b[0mmy_file\u001b[0m \u001b[0;34m=\u001b[0m \u001b[0mopen\u001b[0m\u001b[0;34m(\u001b[0m\u001b[0;34m\"my_file.txt\"\u001b[0m\u001b[0;34m)\u001b[0m\u001b[0;34m\u001b[0m\u001b[0m\n\u001b[0m",
      "\u001b[0;31mFileNotFoundError\u001b[0m: [Errno 2] No such file or directory: 'my_file.txt'"
     ]
    }
   ],
   "source": [
    "#gives FileNotFoundError \n",
    "my_file = open(\"my_file.txt\")"
   ]
  },
  {
   "cell_type": "code",
   "execution_count": null,
   "metadata": {
    "collapsed": true
   },
   "outputs": [],
   "source": [
    "# all of the errors we've seen above so far cause an exception\n",
    "# they cause a new object to be created by Python: an Exception Object\n",
    "# Sometimes you can code defensively and try to deal with these Exceptions\n",
    "#directly. This is called Error Handling.\n",
    "\n",
    "# To do proper Error handling, the first thing you have to decide is\n",
    "# 1) Can anything be done to fix the error, and \n",
    "# 2) exactly WHO needs to do something to fix the error when it occurs\n",
    "\n",
    "\n"
   ]
  },
  {
   "cell_type": "code",
   "execution_count": 73,
   "metadata": {
    "collapsed": false
   },
   "outputs": [
    {
     "name": "stdout",
     "output_type": "stream",
     "text": [
      "you cannot divide by zero\n"
     ]
    }
   ],
   "source": [
    "# Let's return to all of our error examples above\n",
    "## Gives a ZeroDivisionError\n",
    "#divide_by_zero = 1/0\n",
    "\n",
    "# we put the code that might give problems inside a 'try -  except block'\n",
    "\n",
    "#look at the following\n",
    "\n",
    "user_input = 0\n",
    "try:\n",
    "    divide_by_zero = 1/user_input\n",
    "except ZeroDivisionError:\n",
    "    print(\"you cannot divide by zero\")\n",
    "    \n",
    "#it no longer crashes your program!!! It just gives you the error.\n",
    "#can you see how this is valuable to the potential users of your program?"
   ]
  },
  {
   "cell_type": "code",
   "execution_count": 74,
   "metadata": {
    "collapsed": false
   },
   "outputs": [
    {
     "ename": "TypeError",
     "evalue": "unsupported operand type(s) for /: 'int' and 'str'",
     "output_type": "error",
     "traceback": [
      "\u001b[0;31m---------------------------------------------------------------------------\u001b[0m",
      "\u001b[0;31mTypeError\u001b[0m                                 Traceback (most recent call last)",
      "\u001b[0;32m<ipython-input-74-f8262f194c7a>\u001b[0m in \u001b[0;36m<module>\u001b[0;34m()\u001b[0m\n\u001b[1;32m      2\u001b[0m \u001b[0muser_input\u001b[0m \u001b[0;34m=\u001b[0m \u001b[0;34m\"0\"\u001b[0m\u001b[0;34m\u001b[0m\u001b[0m\n\u001b[1;32m      3\u001b[0m \u001b[0;32mtry\u001b[0m\u001b[0;34m:\u001b[0m\u001b[0;34m\u001b[0m\u001b[0m\n\u001b[0;32m----> 4\u001b[0;31m     \u001b[0mdivide_by_zero\u001b[0m \u001b[0;34m=\u001b[0m \u001b[0;36m1\u001b[0m\u001b[0;34m/\u001b[0m\u001b[0muser_input\u001b[0m\u001b[0;34m\u001b[0m\u001b[0m\n\u001b[0m\u001b[1;32m      5\u001b[0m \u001b[0;32mexcept\u001b[0m \u001b[0mZeroDivisionError\u001b[0m\u001b[0;34m:\u001b[0m\u001b[0;34m\u001b[0m\u001b[0m\n\u001b[1;32m      6\u001b[0m     \u001b[0mprint\u001b[0m\u001b[0;34m(\u001b[0m\u001b[0;34m\"you cannot divide by zero\"\u001b[0m\u001b[0;34m)\u001b[0m\u001b[0;34m\u001b[0m\u001b[0m\n",
      "\u001b[0;31mTypeError\u001b[0m: unsupported operand type(s) for /: 'int' and 'str'"
     ]
    }
   ],
   "source": [
    "#BUT NOTICE THE FOLLOWING STILL MAKES THIS CRASH\n",
    "# We get a TypeError which we did not check for\n",
    "user_input = \"0\" #unexpected string input\n",
    "try:\n",
    "    divide_by_zero = 1/user_input\n",
    "except ZeroDivisionError:\n",
    "    print(\"you cannot divide by zero\")"
   ]
  },
  {
   "cell_type": "code",
   "execution_count": 75,
   "metadata": {
    "collapsed": false
   },
   "outputs": [
    {
     "name": "stdout",
     "output_type": "stream",
     "text": [
      "input must be of type int\n"
     ]
    }
   ],
   "source": [
    "# If you are worried about more than one kind of error, \n",
    "#can set up your 'try - except' block\n",
    "# to capture ALL ERRORS INDIVIDUALLY\n",
    "\n",
    "user_input = \"0\" # string input\n",
    "\n",
    "try:\n",
    "    divide_by_zero = 1/user_input\n",
    "except ZeroDivisionError:\n",
    "    print(\"you cannot divide by zero\")\n",
    "except TypeError:\n",
    "    print(\"input must be of type 'int'\")"
   ]
  },
  {
   "cell_type": "code",
   "execution_count": 1,
   "metadata": {
    "collapsed": false
   },
   "outputs": [
    {
     "name": "stdout",
     "output_type": "stream",
     "text": [
      "there has been an error: unsupported operand type(s) for /: 'int' and 'str'\n"
     ]
    }
   ],
   "source": [
    "#can also do it like this:\n",
    "    \n",
    "user_input = \"0\" # string input\n",
    "\n",
    "try:\n",
    "    divide_by_zero = 1/user_input\n",
    "except Exception as e:\n",
    "    print(\"there has been an error:\", e)\n"
   ]
  },
  {
   "cell_type": "code",
   "execution_count": 82,
   "metadata": {
    "collapsed": false
   },
   "outputs": [],
   "source": [
    "# assert statements\n",
    "\n",
    "# so, the example above explicitly had user input in mind. \n",
    "#Something your user could do\n",
    "# to make the program not work properly\n",
    "\n",
    "# for a lot of programming, you are not explicitly writing for users, but for other python programmers\n",
    "\n",
    "#let's return to the is_prime() function from before\n",
    "\n",
    "def is_prime(number):\n",
    "    assert type(number) == int\n",
    "    assert number > 0\n",
    "    \n",
    "    if number == 1: return False\n",
    "    if number == 2: return True\n",
    "    \n",
    "    for i in range(2,number):\n",
    "        if number%i == 0: return False\n",
    "    return True\n",
    "\n",
    "# this function is likely something that another programmer would use\n",
    "# they might want to take my function and use it as a building block for something else\n",
    "# in this case, if they are using it incorrectly, \n",
    "# maybe I acutally WANT IT TO CRASH RIGHT AWAY\n",
    "\n",
    "# that's why I used the 'assert' statement here\n",
    "# the 'assert' statement is a simple way to let other programmers know what the code you \n",
    "# are writing expects for inputs.\n",
    "\n",
    "# I wanted to make sure that my fellow programmers know that \n",
    "# is_prime() only takes integers as its arguments, and that they must be > 0\n"
   ]
  },
  {
   "cell_type": "code",
   "execution_count": 77,
   "metadata": {
    "collapsed": true
   },
   "outputs": [],
   "source": [
    "assert True ##this is True, so nothing happens"
   ]
  },
  {
   "cell_type": "code",
   "execution_count": 76,
   "metadata": {
    "collapsed": false
   },
   "outputs": [
    {
     "ename": "AssertionError",
     "evalue": "",
     "output_type": "error",
     "traceback": [
      "\u001b[0;31m---------------------------------------------------------------------------\u001b[0m",
      "\u001b[0;31mAssertionError\u001b[0m                            Traceback (most recent call last)",
      "\u001b[0;32m<ipython-input-76-6e6df518a476>\u001b[0m in \u001b[0;36m<module>\u001b[0;34m()\u001b[0m\n\u001b[0;32m----> 1\u001b[0;31m \u001b[0;32massert\u001b[0m \u001b[0;32mFalse\u001b[0m\u001b[0;34m\u001b[0m\u001b[0m\n\u001b[0m",
      "\u001b[0;31mAssertionError\u001b[0m: "
     ]
    }
   ],
   "source": [
    "assert False # AssertionError\n"
   ]
  },
  {
   "cell_type": "code",
   "execution_count": 83,
   "metadata": {
    "collapsed": false
   },
   "outputs": [
    {
     "ename": "AssertionError",
     "evalue": "",
     "output_type": "error",
     "traceback": [
      "\u001b[0;31m---------------------------------------------------------------------------\u001b[0m",
      "\u001b[0;31mAssertionError\u001b[0m                            Traceback (most recent call last)",
      "\u001b[0;32m<ipython-input-83-0fff3722908e>\u001b[0m in \u001b[0;36m<module>\u001b[0;34m()\u001b[0m\n\u001b[0;32m----> 1\u001b[0;31m \u001b[0mis_prime\u001b[0m\u001b[0;34m(\u001b[0m\u001b[0;34m'A'\u001b[0m\u001b[0;34m)\u001b[0m\u001b[0;34m\u001b[0m\u001b[0m\n\u001b[0m",
      "\u001b[0;32m<ipython-input-82-0038f788a470>\u001b[0m in \u001b[0;36mis_prime\u001b[0;34m(number)\u001b[0m\n\u001b[1;32m      9\u001b[0m \u001b[0;34m\u001b[0m\u001b[0m\n\u001b[1;32m     10\u001b[0m \u001b[0;32mdef\u001b[0m \u001b[0mis_prime\u001b[0m\u001b[0;34m(\u001b[0m\u001b[0mnumber\u001b[0m\u001b[0;34m)\u001b[0m\u001b[0;34m:\u001b[0m\u001b[0;34m\u001b[0m\u001b[0m\n\u001b[0;32m---> 11\u001b[0;31m     \u001b[0;32massert\u001b[0m \u001b[0mtype\u001b[0m\u001b[0;34m(\u001b[0m\u001b[0mnumber\u001b[0m\u001b[0;34m)\u001b[0m \u001b[0;34m==\u001b[0m \u001b[0mint\u001b[0m\u001b[0;34m\u001b[0m\u001b[0m\n\u001b[0m\u001b[1;32m     12\u001b[0m     \u001b[0;32massert\u001b[0m \u001b[0mnumber\u001b[0m \u001b[0;34m>\u001b[0m \u001b[0;36m0\u001b[0m\u001b[0;34m\u001b[0m\u001b[0m\n\u001b[1;32m     13\u001b[0m \u001b[0;34m\u001b[0m\u001b[0m\n",
      "\u001b[0;31mAssertionError\u001b[0m: "
     ]
    }
   ],
   "source": [
    "is_prime('A')\n"
   ]
  },
  {
   "cell_type": "code",
   "execution_count": 84,
   "metadata": {
    "collapsed": false
   },
   "outputs": [
    {
     "ename": "AssertionError",
     "evalue": "",
     "output_type": "error",
     "traceback": [
      "\u001b[0;31m---------------------------------------------------------------------------\u001b[0m",
      "\u001b[0;31mAssertionError\u001b[0m                            Traceback (most recent call last)",
      "\u001b[0;32m<ipython-input-84-09b70edeedd5>\u001b[0m in \u001b[0;36m<module>\u001b[0;34m()\u001b[0m\n\u001b[0;32m----> 1\u001b[0;31m \u001b[0mis_prime\u001b[0m\u001b[0;34m(\u001b[0m\u001b[0;34m-\u001b[0m\u001b[0;36m44\u001b[0m\u001b[0;34m)\u001b[0m\u001b[0;34m\u001b[0m\u001b[0m\n\u001b[0m",
      "\u001b[0;32m<ipython-input-82-0038f788a470>\u001b[0m in \u001b[0;36mis_prime\u001b[0;34m(number)\u001b[0m\n\u001b[1;32m     10\u001b[0m \u001b[0;32mdef\u001b[0m \u001b[0mis_prime\u001b[0m\u001b[0;34m(\u001b[0m\u001b[0mnumber\u001b[0m\u001b[0;34m)\u001b[0m\u001b[0;34m:\u001b[0m\u001b[0;34m\u001b[0m\u001b[0m\n\u001b[1;32m     11\u001b[0m     \u001b[0;32massert\u001b[0m \u001b[0mtype\u001b[0m\u001b[0;34m(\u001b[0m\u001b[0mnumber\u001b[0m\u001b[0;34m)\u001b[0m \u001b[0;34m==\u001b[0m \u001b[0mint\u001b[0m\u001b[0;34m\u001b[0m\u001b[0m\n\u001b[0;32m---> 12\u001b[0;31m     \u001b[0;32massert\u001b[0m \u001b[0mnumber\u001b[0m \u001b[0;34m>\u001b[0m \u001b[0;36m0\u001b[0m\u001b[0;34m\u001b[0m\u001b[0m\n\u001b[0m\u001b[1;32m     13\u001b[0m \u001b[0;34m\u001b[0m\u001b[0m\n\u001b[1;32m     14\u001b[0m     \u001b[0;32mif\u001b[0m \u001b[0mnumber\u001b[0m \u001b[0;34m==\u001b[0m \u001b[0;36m1\u001b[0m\u001b[0;34m:\u001b[0m \u001b[0;32mreturn\u001b[0m \u001b[0;32mFalse\u001b[0m\u001b[0;34m\u001b[0m\u001b[0m\n",
      "\u001b[0;31mAssertionError\u001b[0m: "
     ]
    }
   ],
   "source": [
    "is_prime(-44)"
   ]
  },
  {
   "cell_type": "code",
   "execution_count": 78,
   "metadata": {
    "collapsed": false
   },
   "outputs": [
    {
     "ename": "AssertionError",
     "evalue": "",
     "output_type": "error",
     "traceback": [
      "\u001b[0;31m---------------------------------------------------------------------------\u001b[0m",
      "\u001b[0;31mAssertionError\u001b[0m                            Traceback (most recent call last)",
      "\u001b[0;32m<ipython-input-78-9103f40759b2>\u001b[0m in \u001b[0;36m<module>\u001b[0;34m()\u001b[0m\n\u001b[1;32m      1\u001b[0m \u001b[0mmy_string\u001b[0m \u001b[0;34m=\u001b[0m \u001b[0;34m\"This is a string\"\u001b[0m\u001b[0;34m\u001b[0m\u001b[0m\n\u001b[0;32m----> 2\u001b[0;31m \u001b[0;32massert\u001b[0m \u001b[0mtype\u001b[0m\u001b[0;34m(\u001b[0m\u001b[0mmy_string\u001b[0m\u001b[0;34m)\u001b[0m \u001b[0;34m==\u001b[0m \u001b[0mint\u001b[0m\u001b[0;34m\u001b[0m\u001b[0m\n\u001b[0m",
      "\u001b[0;31mAssertionError\u001b[0m: "
     ]
    }
   ],
   "source": [
    "#more examples\n",
    "\n",
    "my_string = \"This is a string\"\n",
    "assert type(my_string) == int"
   ]
  },
  {
   "cell_type": "code",
   "execution_count": 80,
   "metadata": {
    "collapsed": false
   },
   "outputs": [],
   "source": [
    "assert type(my_string) == str #this is True, so nothing happens"
   ]
  },
  {
   "cell_type": "code",
   "execution_count": null,
   "metadata": {
    "collapsed": false
   },
   "outputs": [],
   "source": []
  },
  {
   "cell_type": "code",
   "execution_count": null,
   "metadata": {
    "collapsed": false
   },
   "outputs": [],
   "source": []
  },
  {
   "cell_type": "code",
   "execution_count": null,
   "metadata": {
    "collapsed": false
   },
   "outputs": [],
   "source": [
    "#exercises: rewrite these short programs using 'try - except' \n",
    "#so they'll catch the errors\n",
    "# give an informative error message to the user\n",
    "\n",
    "import requests\n",
    "url = 'https://www.google.com'\n",
    "req = requests.get(url)\n",
    "\n",
    "\n"
   ]
  },
  {
   "cell_type": "code",
   "execution_count": 13,
   "metadata": {
    "collapsed": false
   },
   "outputs": [
    {
     "ename": "FileNotFoundError",
     "evalue": "[Errno 2] No such file or directory: 'my_file.pdf'",
     "output_type": "error",
     "traceback": [
      "\u001b[0;31m---------------------------------------------------------------------------\u001b[0m",
      "\u001b[0;31mFileNotFoundError\u001b[0m                         Traceback (most recent call last)",
      "\u001b[0;32m<ipython-input-13-7c5325d8d2d1>\u001b[0m in \u001b[0;36m<module>\u001b[0;34m()\u001b[0m\n\u001b[1;32m      1\u001b[0m \u001b[0mfilename\u001b[0m \u001b[0;34m=\u001b[0m \u001b[0;34m\"my_file.pdf\"\u001b[0m\u001b[0;34m\u001b[0m\u001b[0m\n\u001b[0;32m----> 2\u001b[0;31m \u001b[0mopen\u001b[0m\u001b[0;34m(\u001b[0m\u001b[0mfilename\u001b[0m\u001b[0;34m)\u001b[0m\u001b[0;34m\u001b[0m\u001b[0m\n\u001b[0m",
      "\u001b[0;31mFileNotFoundError\u001b[0m: [Errno 2] No such file or directory: 'my_file.pdf'"
     ]
    }
   ],
   "source": [
    "#exercises: rewrite these short programs using 'try - except' so they'll catch the errors\n",
    "# give an informative error message to the user\n",
    "filename = \"my_file.pdf\"\n",
    "open(filename)\n"
   ]
  },
  {
   "cell_type": "code",
   "execution_count": null,
   "metadata": {
    "collapsed": true
   },
   "outputs": [],
   "source": [
    "#exercises: rewrite these short programs using 'try - except' so they'll catch the errors\n",
    "# give an informative error message to the user\n",
    "# make sure the user inputs a valid number. \n",
    "#What error should you handle for this?\n",
    "# give an informative error message to the user\n",
    "age = int(input(\"Enter your age: \"))\n"
   ]
  },
  {
   "cell_type": "code",
   "execution_count": 14,
   "metadata": {
    "collapsed": false
   },
   "outputs": [
    {
     "name": "stdout",
     "output_type": "stream",
     "text": [
      "-4\n",
      "4\n"
     ]
    }
   ],
   "source": [
    "#exercises: rewrite these functions using 'assert' so they'll tell your coworkers what inputs are allowed\n",
    "\n",
    "def f(x):\n",
    "    return g(x)\n",
    "\n",
    "def g(x): # assert x must be greater than 5 \n",
    "    return x - 5\n",
    "\n",
    "print(f(1))\n",
    "print(f(9))"
   ]
  },
  {
   "cell_type": "code",
   "execution_count": 20,
   "metadata": {
    "collapsed": false
   },
   "outputs": [
    {
     "data": {
      "text/plain": [
       "1.4142135623730951"
      ]
     },
     "execution_count": 20,
     "metadata": {},
     "output_type": "execute_result"
    }
   ],
   "source": [
    "#import statements in Python\n",
    "#python has many many many cool libraries for you to explore\n",
    "#it does not automatically include all of these libraries into memory! \n",
    "#There are too many of them.\n",
    "# if you need a particular library (called a module), you can import it!\n",
    "\n",
    "#imports the entire math module\n",
    "import math \n",
    "\n",
    "#to use the sqrt() method, you can do the following:\n",
    "#module_name.method_name\n",
    "\n",
    "math.sqrt(2)\n",
    "\n",
    "# it allows you to keep the math functions with an explicit \n",
    "#namespace of 'math'"
   ]
  },
  {
   "cell_type": "code",
   "execution_count": 22,
   "metadata": {
    "collapsed": false
   },
   "outputs": [
    {
     "ename": "NameError",
     "evalue": "name 'sqrt' is not defined",
     "output_type": "error",
     "traceback": [
      "\u001b[0;31m---------------------------------------------------------------------------\u001b[0m",
      "\u001b[0;31mNameError\u001b[0m                                 Traceback (most recent call last)",
      "\u001b[0;32m<ipython-input-22-2a29d812ad33>\u001b[0m in \u001b[0;36m<module>\u001b[0;34m()\u001b[0m\n\u001b[1;32m      1\u001b[0m \u001b[0;31m# what happens if you just call sqrt()?\u001b[0m\u001b[0;34m\u001b[0m\u001b[0;34m\u001b[0m\u001b[0m\n\u001b[1;32m      2\u001b[0m \u001b[0;34m\u001b[0m\u001b[0m\n\u001b[0;32m----> 3\u001b[0;31m \u001b[0msqrt\u001b[0m\u001b[0;34m(\u001b[0m\u001b[0;36m2\u001b[0m\u001b[0;34m)\u001b[0m\u001b[0;34m\u001b[0m\u001b[0m\n\u001b[0m",
      "\u001b[0;31mNameError\u001b[0m: name 'sqrt' is not defined"
     ]
    }
   ],
   "source": [
    "# what happens if you just call sqrt()?\n",
    "#python does NOT have this name registered!!\n",
    "#so, this will not execute\n",
    "\n",
    "sqrt(2)"
   ]
  },
  {
   "cell_type": "code",
   "execution_count": 26,
   "metadata": {
    "collapsed": false
   },
   "outputs": [
    {
     "data": {
      "text/plain": [
       "6"
      ]
     },
     "execution_count": 26,
     "metadata": {},
     "output_type": "execute_result"
    }
   ],
   "source": [
    "#you can also import functions another way\n",
    "\n",
    "#trunc truncates a float, chopping off any decimal value and turning the number into an integer.\n",
    "from math import trunc \n",
    "\n",
    "#this only imports the one function you want. NOT ALL OF MATH MODULE\n",
    "#ALSO, note that the name 'trunc' is now in your namespace! \n",
    "\n",
    "#this will execute now\n",
    "\n",
    "trunc(6.7)\n",
    "\n"
   ]
  },
  {
   "cell_type": "code",
   "execution_count": 1,
   "metadata": {
    "collapsed": true
   },
   "outputs": [],
   "source": [
    "#Let’s Debug Someone Else’s Code"
   ]
  },
  {
   "cell_type": "code",
   "execution_count": null,
   "metadata": {
    "collapsed": false
   },
   "outputs": [],
   "source": [
    "#write a program to convert temperature from Celsius to Farenheit\n",
    "#this function is broken. fix it\n",
    "\n",
    "def celsius_to_farenheit(temp):\n",
    "    temp = temp * 9 / 5 - 32\n",
    "    return temp"
   ]
  },
  {
   "cell_type": "code",
   "execution_count": 11,
   "metadata": {
    "collapsed": false
   },
   "outputs": [
    {
     "name": "stdout",
     "output_type": "stream",
     "text": [
      "[1, 2, 'Fizz', 4, 'Buzz', 'Fizz', 7, 8, 'Fizz', 'Buzz', 11, 'Fizz', 13, 14, 'Fizz', 16, 17, 'Fizz', 19, 'Buzz', 'Fizz', 22, 23, 'Fizz', 'Buzz', 26, 'Fizz', 28, 29, 'Fizz', 31, 32, 'Fizz', 34, 'Buzz', 'Fizz', 37, 38, 'Fizz', 'Buzz', 41, 'Fizz', 43, 44, 'Fizz', 46, 47, 'Fizz', 49, 'Buzz', 'Fizz', 52, 53, 'Fizz', 'Buzz', 56, 'Fizz', 58, 59, 'Fizz', 61, 62, 'Fizz', 64, 'Buzz', 'Fizz', 67, 68, 'Fizz', 'Buzz', 71, 'Fizz', 73, 74, 'Fizz', 76, 77, 'Fizz', 79, 'Buzz', 'Fizz', 82, 83, 'Fizz', 'Buzz', 86, 'Fizz', 88, 89, 'Fizz', 91, 92, 'Fizz', 94, 'Buzz', 'Fizz', 97, 98, 'Fizz', 'Buzz']\n"
     ]
    }
   ],
   "source": [
    "'''\n",
    "Task\n",
    "Write a program that makes a list with the integers from   1   to   100   (inclusive).\n",
    "\n",
    "But:\n",
    "  for multiples of three,   print 'Fizz' instead of the number\n",
    "  for multiples of five,   print 'Buzz' instead of the number\n",
    "  for multiples of both three and five,   print   'FizzBuzz' instead of the number\n",
    "  \n",
    "'''\n",
    "\n",
    "# this function is broken! Fix it.\n",
    "def fizzbuzz(number):\n",
    "    assert type(number) == int\n",
    "    if number % 3 == 0:\n",
    "        return(\"Fizz\")\n",
    "    elif number % 5 == 0:\n",
    "        return(\"Buzz\")\n",
    "    elif number % 15 == 0:\n",
    "        return(\"FizzBuzz\")\n",
    "    else:\n",
    "        return number\n",
    "\n",
    "my_list = [fizzbuzz(x) for x in range(1,101)]\n",
    "print(my_list)"
   ]
  },
  {
   "cell_type": "code",
   "execution_count": 1,
   "metadata": {
    "collapsed": false
   },
   "outputs": [
    {
     "name": "stdout",
     "output_type": "stream",
     "text": [
      "Guess my target number that is between 1 and 100 (inclusive).\n",
      "\n",
      "Your guess(1): 6\n",
      "  Too low.\n",
      "Your guess(2): 50\n",
      "  Too low.\n",
      "Your guess(3): 75\n",
      "  Too low.\n",
      "Your guess(4): 87\n",
      "  Too high.\n",
      "Your guess(5): 82\n",
      "  Too low.\n",
      "Your guess(6): 84\n",
      "  You are correct!!\n",
      "\n",
      "Thanks for playing.\n"
     ]
    }
   ],
   "source": [
    "'''\n",
    "Task\n",
    "Write a game (computer program) that follows the following rules:\n",
    "\n",
    "The computer chooses a number between given set limits.\n",
    "The player is asked for repeated guesses until the the target number is guessed correctly\n",
    "At each guess, the computer responds with whether the guess is:\n",
    "higher than the target,\n",
    "equal to the target,\n",
    "less than the target,   or\n",
    "the input was inappropriate.\n",
    "\n",
    "This is what the correct output should look like\n",
    "\n",
    "Guess my target number that is between 1 and 100 (inclusive).\n",
    "\n",
    "Your guess(1): 6\n",
    "  Too low.\n",
    "Your guess(2): 50\n",
    "  Too low.\n",
    "Your guess(3): 75\n",
    "  Too low.\n",
    "Your guess(4): 87\n",
    "  Too high.\n",
    "Your guess(5): 82\n",
    "  Too low.\n",
    "Your guess(6): 84\n",
    "  You are correct!!\n",
    "\n",
    "Thanks for playing.\n",
    "\n",
    "'''\n",
    "\n",
    "#this program is wrong. fix it!!!\n",
    "\n",
    "import random\n",
    " \n",
    "inclusive_range = (1, 100) #this is a tuple!\n",
    " \n",
    "print(\"Guess my target number that is between %i and %i (inclusive).\\n\"\n",
    "      % inclusive_range)\n",
    "\n",
    "#generates random number in the range\n",
    "target = random.randint(*inclusive_range) \n",
    "answer, i = None, 0\n",
    "while answer != target:\n",
    "    i += 1\n",
    "    txt = input(\"Your guess(%i): \" % i)\n",
    "    try:\n",
    "        answer = int(txt)\n",
    "    except ValueError:\n",
    "        print(\"  I don't understand your input of '%s' ?\" % txt)\n",
    "        continue\n",
    "    if answer < inclusive_range[0] or answer > inclusive_range[1]:\n",
    "        print(\"  Out of range!\")\n",
    "        continue\n",
    "    if answer == target:\n",
    "        print(\"  You are correct!!\")\n",
    "        break\n",
    "    if answer < target: print(\"  Too high.\")\n",
    "    if answer > target: print(\"  Too low.\")\n",
    " \n",
    "print(\"\\nThanks for playing.\")\n"
   ]
  },
  {
   "cell_type": "code",
   "execution_count": 28,
   "metadata": {
    "collapsed": false
   },
   "outputs": [
    {
     "name": "stdout",
     "output_type": "stream",
     "text": [
      "9 bottles of beer on the wall\n",
      "\n",
      "9 bottles of beer\n",
      "\n",
      "Take one down, pass it around,\n",
      "\n",
      "9 bottles of beer on the wall\n",
      "\n",
      "\n",
      "8 bottles of beer on the wall\n",
      "\n",
      "8 bottles of beer\n",
      "\n",
      "Take one down, pass it around,\n",
      "\n",
      "8 bottles of beer on the wall\n",
      "\n",
      "\n",
      "7 bottles of beer on the wall\n",
      "\n",
      "7 bottles of beer\n",
      "\n",
      "Take one down, pass it around,\n",
      "\n",
      "7 bottles of beer on the wall\n",
      "\n",
      "\n",
      "6 bottles of beer on the wall\n",
      "\n",
      "6 bottles of beer\n",
      "\n",
      "Take one down, pass it around,\n",
      "\n",
      "6 bottles of beer on the wall\n",
      "\n",
      "\n",
      "5 bottles of beer on the wall\n",
      "\n",
      "5 bottles of beer\n",
      "\n",
      "Take one down, pass it around,\n",
      "\n",
      "5 bottles of beer on the wall\n",
      "\n",
      "\n",
      "4 bottles of beer on the wall\n",
      "\n",
      "4 bottles of beer\n",
      "\n",
      "Take one down, pass it around,\n",
      "\n",
      "4 bottles of beer on the wall\n",
      "\n",
      "\n",
      "3 bottles of beer on the wall\n",
      "\n",
      "3 bottles of beer\n",
      "\n",
      "Take one down, pass it around,\n",
      "\n",
      "3 bottles of beer on the wall\n",
      "\n",
      "\n",
      "2 bottles of beer on the wall\n",
      "\n",
      "2 bottles of beer\n",
      "\n",
      "Take one down, pass it around,\n",
      "\n",
      "2 bottles of beer on the wall\n",
      "\n",
      "\n",
      "1 bottles of beer on the wall\n",
      "\n",
      "1 bottles of beer\n",
      "\n",
      "Take one down, pass it around,\n",
      "\n",
      "1 bottles of beer on the wall\n",
      "\n",
      "\n"
     ]
    }
   ],
   "source": [
    "#this program is wrong. fix it!!!\n",
    "\n",
    "'''\n",
    "This is what the correct output should look like\n",
    "10 bottles of beer on the wall\n",
    "\n",
    "10 bottles of beer\n",
    "\n",
    "Take one down, pass it around,\n",
    "\n",
    "9 bottles of beer on the wall\n",
    "\n",
    "\n",
    "9 bottles of beer on the wall\n",
    "\n",
    "9 bottles of beer\n",
    "\n",
    "Take one down, pass it around,\n",
    "\n",
    "8 bottles of beer on the wall\n",
    "\n",
    "\n",
    "8 bottles of beer on the wall\n",
    "\n",
    "8 bottles of beer\n",
    "\n",
    "Take one down, pass it around,\n",
    "\n",
    "7 bottles of beer on the wall\n",
    "\n",
    "\n",
    "7 bottles of beer on the wall\n",
    "\n",
    "7 bottles of beer\n",
    "\n",
    "Take one down, pass it around,\n",
    "\n",
    "6 bottles of beer on the wall\n",
    "\n",
    "\n",
    "6 bottles of beer on the wall\n",
    "\n",
    "6 bottles of beer\n",
    "\n",
    "Take one down, pass it around,\n",
    "\n",
    "5 bottles of beer on the wall\n",
    "\n",
    "\n",
    "5 bottles of beer on the wall\n",
    "\n",
    "5 bottles of beer\n",
    "\n",
    "Take one down, pass it around,\n",
    "\n",
    "4 bottles of beer on the wall\n",
    "\n",
    "\n",
    "4 bottles of beer on the wall\n",
    "\n",
    "4 bottles of beer\n",
    "\n",
    "Take one down, pass it around,\n",
    "\n",
    "3 bottles of beer on the wall\n",
    "\n",
    "\n",
    "3 bottles of beer on the wall\n",
    "\n",
    "3 bottles of beer\n",
    "\n",
    "Take one down, pass it around,\n",
    "\n",
    "2 bottles of beer on the wall\n",
    "\n",
    "\n",
    "2 bottles of beer on the wall\n",
    "\n",
    "2 bottles of beer\n",
    "\n",
    "Take one down, pass it around,\n",
    "\n",
    "1 bottles of beer on the wall\n",
    "\n",
    "\n",
    "1 bottles of beer on the wall\n",
    "\n",
    "1 bottles of beer\n",
    "\n",
    "Take one down, pass it around,\n",
    "\n",
    "0 bottles of beer on the wall'''\n",
    "\n",
    "\n",
    "verse = '''\\\n",
    "{some} bottles of beer on the wall\\n\n",
    "{some} bottles of beer\\n\n",
    "Take one down, pass it around,\\n\n",
    "{less} bottles of beer on the wall\\n\n",
    "'''\n",
    " \n",
    "\n",
    "for bottles in range(10,1,-1):\n",
    "    print(verse.format(some=bottles-1, less=bottles-1))"
   ]
  },
  {
   "cell_type": "code",
   "execution_count": null,
   "metadata": {
    "collapsed": false
   },
   "outputs": [],
   "source": []
  },
  {
   "cell_type": "code",
   "execution_count": null,
   "metadata": {
    "collapsed": true
   },
   "outputs": [],
   "source": []
  }
 ],
 "metadata": {
  "kernelspec": {
   "display_name": "Python 3.6",
   "language": "python",
   "name": "python36"
  },
  "language_info": {
   "codemirror_mode": {
    "name": "ipython",
    "version": 3
   },
   "file_extension": ".py",
   "mimetype": "text/x-python",
   "name": "python",
   "nbconvert_exporter": "python",
   "pygments_lexer": "ipython3",
   "version": "3.6.0"
  }
 },
 "nbformat": 4,
 "nbformat_minor": 2
}
