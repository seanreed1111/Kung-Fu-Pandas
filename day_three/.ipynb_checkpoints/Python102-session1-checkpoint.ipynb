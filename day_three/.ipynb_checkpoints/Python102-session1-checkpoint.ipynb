{
 "cells": [
  {
   "cell_type": "code",
   "execution_count": 1,
   "metadata": {
    "collapsed": false
   },
   "outputs": [
    {
     "data": {
      "text/plain": [
       "'\\nReview of Lists, Tuples, Dicts, and Sets\\nList Comprehensions\\nFunctions to use when Iterating over Lists and other “Container\"\\nTypes of Errors in Python: Semantic Errors, Syntax Errors, Runtime Errors\\nHandling and raising Exceptions : try and catch\\nLet’s Debug Someone Else’s Code\\nImporting Modules from Python’s Standard Library\\n'"
      ]
     },
     "execution_count": 1,
     "metadata": {},
     "output_type": "execute_result"
    }
   ],
   "source": [
    "'''\n",
    "Review of Lists, Tuples, Dicts, and Sets\n",
    "List Comprehensions\n",
    "Functions to use when Iterating over Lists and other “Container\"\n",
    "Types of Errors in Python: Semantic Errors, Syntax Errors, Runtime Errors\n",
    "Handling and raising Exceptions : try and catch\n",
    "Let’s Debug Someone Else’s Code\n",
    "Importing Modules from Python’s Standard Library\n",
    "'''"
   ]
  },
  {
   "cell_type": "code",
   "execution_count": 14,
   "metadata": {
    "collapsed": false
   },
   "outputs": [
    {
     "name": "stdout",
     "output_type": "stream",
     "text": [
      "I have just one thing to say:  Hello World\n",
      "Hello World Good to see you\n",
      "my_string in lower case is:  hello world\n",
      "next_string in upper case is:  GOOD TO SEE YOU\n"
     ]
    }
   ],
   "source": [
    "# string data type\n",
    "my_string = \"Hello World\"\n",
    "next_string = \"Good to see you\"\n",
    "\n",
    "print(\"I have just one thing to say: \", my_string)\n",
    "print(my_string + ' ' + next_string)\n",
    "\n",
    "#do my_string and next_string get changed when I do this?\n",
    "print(\"my_string in lower case is: \", my_string.lower())\n",
    "print(\"next_string in upper case is: \", next_string.upper())\n"
   ]
  },
  {
   "cell_type": "code",
   "execution_count": 8,
   "metadata": {
    "collapsed": false
   },
   "outputs": [
    {
     "data": {
      "text/plain": [
       "'Hello World'"
      ]
     },
     "execution_count": 8,
     "metadata": {},
     "output_type": "execute_result"
    }
   ],
   "source": [
    "my_string = \"Hello World\"\n",
    "my_string\n"
   ]
  },
  {
   "cell_type": "code",
   "execution_count": 16,
   "metadata": {
    "collapsed": false
   },
   "outputs": [
    {
     "data": {
      "text/plain": [
       "'Hello World'"
      ]
     },
     "execution_count": 16,
     "metadata": {},
     "output_type": "execute_result"
    }
   ],
   "source": [
    "my_string\n",
    "#string interpolation\n",
    "\n",
    "\n"
   ]
  },
  {
   "cell_type": "code",
   "execution_count": null,
   "metadata": {
    "collapsed": true
   },
   "outputs": [],
   "source": []
  },
  {
   "cell_type": "code",
   "execution_count": 3,
   "metadata": {
    "collapsed": false
   },
   "outputs": [
    {
     "name": "stdout",
     "output_type": "stream",
     "text": [
      "first_int + second_int is 63\n",
      "first_int - second_int is -49\n",
      "first_int * second_int is 392\n",
      "first_int / second_int is 0.125\n",
      "second_int / first_int is 8.0\n"
     ]
    }
   ],
   "source": [
    "#integer data type\n",
    "first_int = 7\n",
    "second_int = 56\n",
    "\n",
    "print(\"first_int + second_int is\", first_int + second_int)\n",
    "print(\"first_int - second_int is\", first_int - second_int)\n",
    "print(\"first_int * second_int is\", first_int * second_int)\n",
    "print(\"first_int / second_int is\", first_int / second_int)\n",
    "print(\"second_int / first_int is\", second_int / first_int)"
   ]
  },
  {
   "cell_type": "code",
   "execution_count": 20,
   "metadata": {
    "collapsed": false
   },
   "outputs": [
    {
     "name": "stdout",
     "output_type": "stream",
     "text": [
      "first_float + second_float is 86763.19\n",
      "first_float - second_float is -86742.98999999999\n",
      "first_float * second_float is 876206.2089999999\n",
      "first_float / second_float is 0.00011642236605059255\n",
      "second_float / first_float is 8589.414851485148\n"
     ]
    }
   ],
   "source": [
    "#float data type\n",
    "first_float = 10.1\n",
    "second_float = 86753.09\n",
    "print(\"first_float + second_float is\", first_float + second_float)\n",
    "print(\"first_float - second_float is\", first_float - second_float)\n",
    "print(\"first_float * second_float is\", first_float * second_float)\n",
    "print(\"first_float / second_float is\", first_float / second_float)\n",
    "print(\"second_float / first_float is\", second_float / first_float)"
   ]
  },
  {
   "cell_type": "code",
   "execution_count": 31,
   "metadata": {
    "collapsed": false
   },
   "outputs": [
    {
     "name": "stdout",
     "output_type": "stream",
     "text": [
      "True and False is False\n",
      "True or False is True\n",
      "the opposite of True is: False\n",
      "the opposite of False is: True\n"
     ]
    }
   ],
   "source": [
    "#only two boolean data types: True and False. (note the capitalization!!!)\n",
    "True\n",
    "False\n",
    "\n",
    "# can assign them to variables\n",
    "my_bool = True\n",
    "next_bool = False\n",
    "\n",
    "#can do logical operations\n",
    "print(\"True and False is\", True and False)\n",
    "print(\"True or False is\", True or False)\n",
    "\n",
    "# can also negate any boolean with the 'not' operator\n",
    "print(\"the opposite of True is:\", not True)\n",
    "print(\"the opposite of False is:\", not False)\n",
    "\n"
   ]
  },
  {
   "cell_type": "code",
   "execution_count": 38,
   "metadata": {
    "collapsed": false
   },
   "outputs": [
    {
     "name": "stdout",
     "output_type": "stream",
     "text": [
      "True\n",
      "False\n",
      "True\n",
      "True\n",
      "False\n",
      "True\n",
      "False\n"
     ]
    }
   ],
   "source": [
    "'''Sometimes while coding you want to make decisions based on checking the value\n",
    "of a boolean expression. \n",
    "A Boolean expression is a logical statement that is either True or False) \n",
    "'''\n",
    "x = 3.0\n",
    "y = 4.0\n",
    "z = 5.0\n",
    "\n",
    "print(10 > 0)\n",
    "print(0 > 10)\n",
    "print(z > x and z >= y)\n",
    "print(z < x or z >= y)\n",
    "print(z != x and z <= y)\n",
    "print(x*x + y*y == z*z)\n",
    "print(x*x + y*y > z*z)\n",
    "\n",
    "\n"
   ]
  },
  {
   "cell_type": "code",
   "execution_count": 6,
   "metadata": {
    "collapsed": false
   },
   "outputs": [
    {
     "name": "stdout",
     "output_type": "stream",
     "text": [
      "Your favorite color is red\n",
      "Your favorite color is blue\n",
      "Your favorite color is yellow\n",
      "Your favorite color is purple\n",
      "Your first favorite color is blue and your second is red\n",
      "Your first favorite color is blue and you do not like yellow\n",
      "I don't know what your favorite color is\n"
     ]
    }
   ],
   "source": [
    "# Review of Conditional statements If, else, elif\n",
    "\n",
    "color_1 = \"red\"\n",
    "\n",
    "if color_1 == \"red\":\n",
    "    print(\"Your favorite color is red\")\n",
    "\n",
    "'''\n",
    "two things to note \n",
    "1) the semi-colon is required! \n",
    "2) be careful of the indentation. Python is a 'whitespace significant language'\n",
    "Many other languages might use the keyword 'end' to signify that the 'if' statement\n",
    "is finished. Python does not. It expects you to use proper indentation! \n",
    "'''\n",
    "\n",
    "color_1 = \"blue\"\n",
    "if color_1 == \"red\":\n",
    "    print(\"Your favorite color is red\")\n",
    "elif color_1 == \"blue\":\n",
    "    print(\"Your favorite color is blue\")\n",
    "\n",
    "\n",
    "\n",
    "# you can have as many 'elif' statements as you like. Each part needs a semicolon\n",
    "color_1 = \"yellow\"\n",
    "    \n",
    "if color_1 == \"red\":\n",
    "    print(\"Your favorite color is red\")\n",
    "elif color_1 == \"blue\":\n",
    "    print(\"Your favorite color is blue\")\n",
    "elif color_1 == \"yellow\":\n",
    "    print(\"Your favorite color is yellow\")\n",
    "\n",
    "\n",
    "# you can have as many 'elif' statements as you like. Most of the time the branches\n",
    "#will be mutually exclusive, i.e. only one branch of the conditional should be true and all the other branches should be false. But there are not required to be. \n",
    "color_1 = \"purple\"\n",
    "    \n",
    "if color_1 == \"red\":\n",
    "    print(\"Your favorite color is red\")\n",
    "elif color_1 == \"blue\":\n",
    "    print(\"Your favorite color is blue\")\n",
    "elif color_1 == \"yellow\":\n",
    "    print(\"Your favorite color is yellow\")\n",
    "elif color_1 == \"purple\":\n",
    "    print(\"Your favorite color is purple\")\n",
    "    \n",
    "\n",
    "#study the outcome of this conditional block\n",
    "color_1 = \"blue\"\n",
    "color_2 = \"red\"\n",
    "color_3 = \"pink\"\n",
    "    \n",
    "if color_1 == \"red\":\n",
    "    print(\"Your favorite color is red\")\n",
    "elif color_1 == \"blue\" and color_2 == \"red\":\n",
    "        print(\"Your first favorite color is blue and your second is red\")\n",
    "elif color_1 == \"blue\" and color_3 != \"yellow\":\n",
    "        print(\"Your first favorite color is blue and you do not like yellow\")\n",
    "    \n",
    "\n",
    "#how is it different from this one study the outcome of this conditional block?\n",
    "color_1 = \"blue\"\n",
    "color_2 = \"red\"\n",
    "color_3 = \"pink\"\n",
    "    \n",
    "if color_1 == \"red\":\n",
    "    print(\"Your favorite color is red\")\n",
    "elif color_1 == \"blue\" and color_3 != \"yellow\":\n",
    "        print(\"Your first favorite color is blue and you do not like yellow\") \n",
    "elif color_1 == \"blue\" and color_2 == \"red\":\n",
    "        print(\"Your first favorite color is blue and your second is red\")\n",
    "        \n",
    "\n",
    "#'else' statements\n",
    "# you can only have one 'else' statement for each block of code\n",
    "#else is the 'default'. If none of the other booleans is true, the else statement runs\n",
    "\n",
    "color_1 = \"pink\"\n",
    "    \n",
    "if color_1 == \"red\":\n",
    "    print(\"Your favorite color is red\")\n",
    "elif color_1 == \"blue\":\n",
    "    print(\"Your favorite color is blue\")\n",
    "elif color_1 == \"yellow\":\n",
    "    print(\"Your favorite color is yellow\")\n",
    "elif color_1 == \"purple\":\n",
    "    print(\"Your favorite color is purple\")\n",
    "else:\n",
    "    print(\"I don't know what your favorite color is\")\n",
    "    \n",
    "    \n",
    "\n",
    "\n",
    " \n",
    "\n"
   ]
  },
  {
   "cell_type": "code",
   "execution_count": null,
   "metadata": {
    "collapsed": true
   },
   "outputs": [],
   "source": []
  },
  {
   "cell_type": "code",
   "execution_count": null,
   "metadata": {
    "collapsed": true
   },
   "outputs": [],
   "source": [
    "\n"
   ]
  },
  {
   "cell_type": "code",
   "execution_count": 60,
   "metadata": {
    "collapsed": false
   },
   "outputs": [
    {
     "name": "stdout",
     "output_type": "stream",
     "text": [
      "my_list is [1, 3, 5, 7, 7, 7, 9]\n",
      "1\n",
      "3\n",
      "5\n",
      "7\n",
      "7\n",
      "7\n",
      "9\n",
      "my_set is  {1, 3, 5, 7, 9}\n"
     ]
    }
   ],
   "source": [
    "'''\n",
    "lists in python\n",
    "Lists are mutable sequences, typically used to store collections of homogeneous items\n",
    "every item in the list should be of the exact same type.\n",
    "'''\n",
    "my_list = [] #preferred way to create an empty list\n",
    "#can also do my_list = list() if you really really really want to\n",
    "\n",
    "my_list = [1,3,5,7,7,7,9]\n",
    "print(\"my_list is\", my_list)\n",
    "\n",
    "#can index into the list to find any specific list element you want\n",
    "print(my_list[0])\n",
    "print(my_list[1])\n",
    "print(my_list[2])\n",
    "print(my_list[3])\n",
    "print(my_list[4])\n",
    "print(my_list[5])\n",
    "print(my_list[6])\n",
    "#print(my_list[7]) #uncomment this line to see what happens\n",
    "\n"
   ]
  },
  {
   "cell_type": "code",
   "execution_count": 61,
   "metadata": {
    "collapsed": false
   },
   "outputs": [
    {
     "name": "stdout",
     "output_type": "stream",
     "text": [
      "my_list is [1, 3, 7, 7, 9, 9]\n",
      "my_set is  {0, 2, 4, 6, 8}\n",
      "new_set is  {1, 3, 9, 7}\n"
     ]
    }
   ],
   "source": [
    "'''\n",
    "Python also includes a data type for sets. \n",
    "A set is an unordered collection with no duplicate elements. \n",
    "Basic uses include membership testing and eliminating duplicate entries.\n",
    "'''\n",
    "#recall that for lists\n",
    "my_list = [1,3,7,7,9,9]\n",
    "print(\"my_list is\", my_list)\n",
    "\n",
    "my_set = set() #creates an empty set\n",
    "my_set = {0,0,2,4,4,6,8,8,8,8,8} #creates a set.all duplicates will be removed immediately\n",
    "print(\"my_set is \", my_set)\n",
    "\n",
    "#can also create a set directly from a list\n",
    "new_set = set(my_list)\n",
    "print(\"new_set is \", new_set)"
   ]
  },
  {
   "cell_type": "code",
   "execution_count": 1,
   "metadata": {
    "collapsed": false
   },
   "outputs": [
    {
     "name": "stdout",
     "output_type": "stream",
     "text": [
      "[1.0, 2.0, 3.0, 4.0, 5.0, 6.0]\n"
     ]
    }
   ],
   "source": [
    "'''list comprehensions in Python'''\n",
    "# http://carlgroner.me/Python/2011/11/09/An-Introduction-to-List-Comprehensions-in-Python.html\n",
    "\n",
    "#generating lists from old lists\n",
    "my_list = [2,4,6,8,10,12]\n",
    "new_list = []\n",
    "for x in my_list:\n",
    "    new_list.append(x/2)\n",
    "print(new_list)"
   ]
  },
  {
   "cell_type": "code",
   "execution_count": 2,
   "metadata": {
    "collapsed": false
   },
   "outputs": [
    {
     "name": "stdout",
     "output_type": "stream",
     "text": [
      "[1.0, 2.0, 3.0, 4.0, 5.0, 6.0]\n"
     ]
    }
   ],
   "source": [
    "#doing the same thing using list comprehension\n",
    "new_list = [x/2 for x in my_list]\n",
    "print(new_list)"
   ]
  },
  {
   "cell_type": "code",
   "execution_count": null,
   "metadata": {
    "collapsed": false
   },
   "outputs": [],
   "source": []
  },
  {
   "cell_type": "code",
   "execution_count": null,
   "metadata": {
    "collapsed": true
   },
   "outputs": [],
   "source": []
  },
  {
   "cell_type": "code",
   "execution_count": null,
   "metadata": {
    "collapsed": true
   },
   "outputs": [],
   "source": []
  }
 ],
 "metadata": {
  "kernelspec": {
   "display_name": "Python 3",
   "language": "python",
   "name": "python3"
  },
  "language_info": {
   "codemirror_mode": {
    "name": "ipython",
    "version": 3
   },
   "file_extension": ".py",
   "mimetype": "text/x-python",
   "name": "python",
   "nbconvert_exporter": "python",
   "pygments_lexer": "ipython3",
   "version": "3.6.0"
  }
 },
 "nbformat": 4,
 "nbformat_minor": 2
}
