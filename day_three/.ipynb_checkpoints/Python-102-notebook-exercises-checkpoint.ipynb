{
 "cells": [
  {
   "cell_type": "code",
   "execution_count": 12,
   "metadata": {
    "collapsed": false
   },
   "outputs": [
    {
     "name": "stdout",
     "output_type": "stream",
     "text": [
      "0\n",
      "1\n",
      "2\n",
      "3\n",
      "4\n",
      "5\n"
     ]
    }
   ],
   "source": [
    "'''\n",
    "ranges in python\n",
    "'''\n",
    "for i in range(6):\n",
    "    print(i)\n",
    "\n"
   ]
  },
  {
   "cell_type": "code",
   "execution_count": 2,
   "metadata": {
    "collapsed": false
   },
   "outputs": [
    {
     "name": "stdout",
     "output_type": "stream",
     "text": [
      "20\n"
     ]
    }
   ],
   "source": [
    "'''\n",
    "functions in Python\n",
    "'''\n",
    "\n",
    "#function declaration\n",
    "def double(number):\n",
    "    return number * 2\n",
    "\n",
    "#function invocation\n",
    "print(double(10))\n"
   ]
  },
  {
   "cell_type": "code",
   "execution_count": null,
   "metadata": {
    "collapsed": true
   },
   "outputs": [],
   "source": [
    "'''\n",
    "make a function called that returns True if a number is odd\n",
    "make a function called that returns True if a number is even\n",
    "\n",
    "print even(1002)\n",
    "print odd(1003)\n",
    "'''"
   ]
  },
  {
   "cell_type": "code",
   "execution_count": null,
   "metadata": {
    "collapsed": true
   },
   "outputs": [],
   "source": [
    "#Write a Python function to find the Max of three numbers."
   ]
  },
  {
   "cell_type": "code",
   "execution_count": null,
   "metadata": {
    "collapsed": true
   },
   "outputs": [],
   "source": [
    "'''\n",
    "Write a Python function to sum all the numbers in a list.\n",
    "Sample List : [8, 2, 3, 0, 7]\n",
    "Expected Output : 20 \n",
    "'''"
   ]
  },
  {
   "cell_type": "code",
   "execution_count": null,
   "metadata": {
    "collapsed": true
   },
   "outputs": [],
   "source": [
    "'''\n",
    "Write a Python function to multiply all the numbers in a list.\n",
    "Sample List : [8, 2, 3, -1, 7]\n",
    "Expected Output : -336 '''"
   ]
  },
  {
   "cell_type": "code",
   "execution_count": null,
   "metadata": {
    "collapsed": true
   },
   "outputs": [],
   "source": [
    "'''\n",
    "Write a Python function that takes a list and returns a new list \n",
    "with unique elements of the first list. \n",
    "Sample List : [1,2,3,3,3,3,4,5]\n",
    "Unique List : [1, 2, 3, 4, 5]\n",
    "'''"
   ]
  },
  {
   "cell_type": "code",
   "execution_count": null,
   "metadata": {
    "collapsed": true
   },
   "outputs": [],
   "source": [
    "'''\n",
    "Write a Python function that takes a number as a parameter and check \n",
    "the number is prime or not. \n",
    "Note : A prime number (or a prime) is a natural number greater than 1 \n",
    "and that has no positive divisors other than 1 and itself. \n",
    "'''"
   ]
  },
  {
   "cell_type": "code",
   "execution_count": null,
   "metadata": {
    "collapsed": true
   },
   "outputs": [],
   "source": []
  },
  {
   "cell_type": "code",
   "execution_count": null,
   "metadata": {
    "collapsed": true
   },
   "outputs": [],
   "source": [
    "'''\n",
    "Write a Python program to print the even numbers from a given list. Go to the editor\n",
    "Sample List : [1, 2, 3, 4, 5, 6, 7, 8, 9] \n",
    "Expected Result : [2, 4, 6, 8]\n",
    "\n",
    "'''"
   ]
  },
  {
   "cell_type": "code",
   "execution_count": null,
   "metadata": {
    "collapsed": true
   },
   "outputs": [],
   "source": []
  },
  {
   "cell_type": "code",
   "execution_count": null,
   "metadata": {
    "collapsed": true
   },
   "outputs": [],
   "source": [
    "'''\n",
    "Build a list of the first 200 elements of fizz buzz, which I’m calling a “fizz buzz list\" \n",
    "fizz buzz is defined as \n",
    "     “fizz\" if the number is divisible by 3,\n",
    "    \"buzz\" if the number is divisible by 5,\n",
    "    “fizzbuzz” if the number is divisible by 15,\n",
    "    the number itself, otherwise.\n",
    "So the first few elements of a \"fizz buzz\" list are [0,1,2,”fizz”,4,”buzz\",”fizz”, ...]\n",
    "'''"
   ]
  },
  {
   "cell_type": "code",
   "execution_count": null,
   "metadata": {
    "collapsed": true
   },
   "outputs": [],
   "source": [
    "\n",
    "#using list comprehension, \n",
    "#generate a list of multiples of 4 that are greater than 0 and less than 420\n"
   ]
  },
  {
   "cell_type": "code",
   "execution_count": null,
   "metadata": {
    "collapsed": true
   },
   "outputs": [],
   "source": [
    "#using list comprehension, \n",
    "#generate a list of multiples of 5 that are greater than 0 and less than 310 that are *not* multiples of 10\n",
    "\n"
   ]
  },
  {
   "cell_type": "code",
   "execution_count": null,
   "metadata": {
    "collapsed": true
   },
   "outputs": [],
   "source": [
    "#Build a list called odd_list of the first 1000 positive odd numbers \n",
    "#print the last 10 elements of this list"
   ]
  },
  {
   "cell_type": "code",
   "execution_count": null,
   "metadata": {
    "collapsed": true
   },
   "outputs": [],
   "source": [
    "#Build a list called even_list of the first 1000 positive even numbers\n",
    "#print the first 10 elements of this list\n"
   ]
  },
  {
   "cell_type": "code",
   "execution_count": null,
   "metadata": {
    "collapsed": true
   },
   "outputs": [],
   "source": [
    "#Generate a list of the first 100 prime numbers greater than zero"
   ]
  },
  {
   "cell_type": "code",
   "execution_count": null,
   "metadata": {
    "collapsed": true
   },
   "outputs": [],
   "source": [
    "'''\n",
    "Write a function which will find all such numbers which are divisible by 7 but are not a multiple of 5,\n",
    "between 2000 and 3200 (both included).\n",
    "\n",
    "'''"
   ]
  },
  {
   "cell_type": "code",
   "execution_count": null,
   "metadata": {
    "collapsed": true
   },
   "outputs": [],
   "source": [
    "'''\n",
    "write a function f(n) which returns a dictionary that satisfies the following:\n",
    "\n",
    "input: not an integer    output \"error\"\n",
    "input: 3                 output: {\"1\":1, \"2\":4, \"3\":9}\n",
    "input: 6                 output: {\"1\":1, \"2\":4, \"3\":9, \"4\":16, \"5\":25, \"6\":36}\n",
    "\n",
    "so the keys are the numbers from 1 to n, and the values are key * key for each key\n",
    "\n",
    "\n",
    "'''"
   ]
  },
  {
   "cell_type": "code",
   "execution_count": null,
   "metadata": {
    "collapsed": true
   },
   "outputs": [],
   "source": [
    "'''\n",
    "write a function f(n) which returns a list that satisfies the following:\n",
    "\n",
    "input: not an integer       output \"error\"\n",
    "input: 3                 output: [1,2,6]\n",
    "input: 5                 output: [1,2,6,24,120]\n",
    "\n",
    "etc.\n",
    "\n",
    "That is, the list is factorials from 1 up to n\n",
    "Note:  \n",
    "1! =           = 1\n",
    "2! =       2*1 = 2\n",
    "3! =     3*2*1 = 6\n",
    "4! =   4*3*2*1 = 24\n",
    "5! = 5*4*3*2*1 = 120\n",
    "etc\n",
    "\n",
    "'''"
   ]
  },
  {
   "cell_type": "code",
   "execution_count": null,
   "metadata": {
    "collapsed": false
   },
   "outputs": [],
   "source": []
  },
  {
   "cell_type": "code",
   "execution_count": null,
   "metadata": {
    "collapsed": true
   },
   "outputs": [],
   "source": [
    "'''\n",
    "Question:\n",
    "Write a function f(n), which will return a list of integers \n",
    "between 0 and n (both included) such that each digit of the integer is an even number.\n",
    "\n",
    "Assume that n < 1000\n",
    "'''"
   ]
  }
 ],
 "metadata": {
  "kernelspec": {
   "display_name": "Python 3",
   "language": "python",
   "name": "python3"
  },
  "language_info": {
   "codemirror_mode": {
    "name": "ipython",
    "version": 3
   },
   "file_extension": ".py",
   "mimetype": "text/x-python",
   "name": "python",
   "nbconvert_exporter": "python",
   "pygments_lexer": "ipython3",
   "version": "3.6.0"
  }
 },
 "nbformat": 4,
 "nbformat_minor": 2
}
